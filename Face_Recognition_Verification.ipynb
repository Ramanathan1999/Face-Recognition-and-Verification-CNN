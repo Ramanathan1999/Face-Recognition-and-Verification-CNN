{
  "cells": [
    {
      "cell_type": "markdown",
      "metadata": {
        "id": "XBITN0M_LKds"
      },
      "source": [
        "# HW2P2: Face Classification and Verification\n"
      ]
    },
    {
      "cell_type": "markdown",
      "metadata": {
        "id": "-NH4P-HzLRQs"
      },
      "source": [
        "Congrats on coming to the second homework in 11785: Introduction to Deep Learning. This homework significantly longer and tougher than the previous homework. You have 2 sub-parts as outlined below. Please start early! \n",
        "\n",
        "\n",
        "*   Face Recognition: You will be writing your own CNN model to tackle the problem of classification, consisting of 7000 identities\n",
        "*   Face Verification: You use the model trained for classification to evaluate the quality of its feature embeddings, by comparing the similarity of known and unknown identities\n",
        "\n",
        "For this HW, you only have to write code to implement your model architecture. Everything else has been provided for you, on the pretext that most of your time will be used up in developing the suitable model architecture for achieving satisfactory performance."
      ]
    },
    {
      "cell_type": "markdown",
      "metadata": {
        "id": "i1B_m84_cU6c"
      },
      "source": [
        "Common errors which you may face in this homeworks (because of the size of the model)\n",
        "\n",
        "\n",
        "*   CUDA Out of Memory (OOM): You can tackle this problem by (1) Reducing the batch size (2) Calling `torch.cuda.empty_cache()` and `gc.collect()` (3) Finally restarting the runtime\n",
        "\n"
      ]
    },
    {
      "cell_type": "markdown",
      "metadata": {
        "id": "BdoDIKWOMF59"
      },
      "source": [
        "# Preliminaries"
      ]
    },
    {
      "cell_type": "code",
      "execution_count": null,
      "metadata": {
        "colab": {
          "base_uri": "https://localhost:8080/"
        },
        "id": "Jza7lwiScUhb",
        "outputId": "81a2bca9-9288-4eb1-c333-06b5acc02389"
      },
      "outputs": [
        {
          "name": "stdout",
          "output_type": "stream",
          "text": [
            "Tue Nov  1 15:44:09 2022       \n",
            "+-----------------------------------------------------------------------------+\n",
            "| NVIDIA-SMI 460.32.03    Driver Version: 460.32.03    CUDA Version: 11.2     |\n",
            "|-------------------------------+----------------------+----------------------+\n",
            "| GPU  Name        Persistence-M| Bus-Id        Disp.A | Volatile Uncorr. ECC |\n",
            "| Fan  Temp  Perf  Pwr:Usage/Cap|         Memory-Usage | GPU-Util  Compute M. |\n",
            "|                               |                      |               MIG M. |\n",
            "|===============================+======================+======================|\n",
            "|   0  Tesla T4            Off  | 00000000:00:04.0 Off |                    0 |\n",
            "| N/A   34C    P8     9W /  70W |      0MiB / 15109MiB |      0%      Default |\n",
            "|                               |                      |                  N/A |\n",
            "+-------------------------------+----------------------+----------------------+\n",
            "                                                                               \n",
            "+-----------------------------------------------------------------------------+\n",
            "| Processes:                                                                  |\n",
            "|  GPU   GI   CI        PID   Type   Process name                  GPU Memory |\n",
            "|        ID   ID                                                   Usage      |\n",
            "|=============================================================================|\n",
            "|  No running processes found                                                 |\n",
            "+-----------------------------------------------------------------------------+\n"
          ]
        }
      ],
      "source": [
        "!nvidia-smi # to see what GPU you have"
      ]
    },
    {
      "cell_type": "code",
      "execution_count": null,
      "metadata": {
        "colab": {
          "base_uri": "https://localhost:8080/"
        },
        "id": "bTxfd_nqFnL9",
        "outputId": "4361fdd1-acc5-405a-8d88-70a809770336"
      },
      "outputs": [
        {
          "name": "stdout",
          "output_type": "stream",
          "text": [
            "\u001b[K     |████████████████████████████████| 1.9 MB 4.1 MB/s \n",
            "\u001b[K     |████████████████████████████████| 166 kB 62.4 MB/s \n",
            "\u001b[K     |████████████████████████████████| 182 kB 71.2 MB/s \n",
            "\u001b[K     |████████████████████████████████| 63 kB 1.7 MB/s \n",
            "\u001b[K     |████████████████████████████████| 166 kB 90.2 MB/s \n",
            "\u001b[K     |████████████████████████████████| 162 kB 72.6 MB/s \n",
            "\u001b[K     |████████████████████████████████| 162 kB 81.3 MB/s \n",
            "\u001b[K     |████████████████████████████████| 158 kB 89.0 MB/s \n",
            "\u001b[K     |████████████████████████████████| 157 kB 92.2 MB/s \n",
            "\u001b[K     |████████████████████████████████| 157 kB 78.8 MB/s \n",
            "\u001b[K     |████████████████████████████████| 157 kB 80.9 MB/s \n",
            "\u001b[K     |████████████████████████████████| 157 kB 93.3 MB/s \n",
            "\u001b[K     |████████████████████████████████| 157 kB 93.2 MB/s \n",
            "\u001b[K     |████████████████████████████████| 157 kB 95.6 MB/s \n",
            "\u001b[K     |████████████████████████████████| 157 kB 77.9 MB/s \n",
            "\u001b[K     |████████████████████████████████| 156 kB 95.0 MB/s \n",
            "\u001b[?25h  Building wheel for pathtools (setup.py) ... \u001b[?25l\u001b[?25hdone\n"
          ]
        }
      ],
      "source": [
        "!pip install wandb --quiet"
      ]
    },
    {
      "cell_type": "code",
      "execution_count": null,
      "metadata": {
        "colab": {
          "base_uri": "https://localhost:8080/"
        },
        "id": "jwLEd0gdPbSc",
        "outputId": "d87197c5-ab63-4064-9f03-0445a2b81fb8"
      },
      "outputs": [
        {
          "name": "stdout",
          "output_type": "stream",
          "text": [
            "Device:  cuda\n"
          ]
        }
      ],
      "source": [
        "import torch\n",
        "from torchsummary import summary\n",
        "import torchvision #This library is used for image-based operations (Augmentations)\n",
        "import os\n",
        "import gc\n",
        "from tqdm import tqdm\n",
        "from PIL import Image\n",
        "import numpy as np\n",
        "import pandas as pd\n",
        "from sklearn.metrics import accuracy_score\n",
        "import glob\n",
        "import wandb\n",
        "device = 'cuda' if torch.cuda.is_available() else 'cpu'\n",
        "print(\"Device: \", device)"
      ]
    },
    {
      "cell_type": "code",
      "execution_count": null,
      "metadata": {
        "colab": {
          "base_uri": "https://localhost:8080/"
        },
        "id": "SRz9et3SZnbO",
        "outputId": "c867a227-4f2f-443e-a9b5-7e30efcfb07b"
      },
      "outputs": [
        {
          "name": "stdout",
          "output_type": "stream",
          "text": [
            "Mounted at /content/drive\n"
          ]
        }
      ],
      "source": [
        "from google.colab import drive # Link your drive if you are a colab user\n",
        "drive.mount('/content/drive') # Models in this HW take a long time to get trained and make sure to save it her"
      ]
    },
    {
      "cell_type": "markdown",
      "metadata": {
        "id": "1oxQNl-YVWHc"
      },
      "source": [
        "# TODOs\n",
        "As you go, please read the code and keep an eye out for TODOs!"
      ]
    },
    {
      "cell_type": "markdown",
      "metadata": {
        "id": "scOnMklwWBY6"
      },
      "source": [
        "# Download Data from Kaggle"
      ]
    },
    {
      "cell_type": "code",
      "execution_count": null,
      "metadata": {
        "colab": {
          "base_uri": "https://localhost:8080/"
        },
        "id": "6BksgPdkQwwb",
        "outputId": "dfaad283-ce77-4aa7-bda5-4b1135ea1c1e"
      },
      "outputs": [
        {
          "name": "stdout",
          "output_type": "stream",
          "text": [
            "Looking in indexes: https://pypi.org/simple, https://us-python.pkg.dev/colab-wheels/public/simple/\n",
            "Collecting kaggle==1.5.8\n",
            "  Downloading kaggle-1.5.8.tar.gz (59 kB)\n",
            "\u001b[K     |████████████████████████████████| 59 kB 2.9 MB/s \n",
            "\u001b[?25hBuilding wheels for collected packages: kaggle\n",
            "  Building wheel for kaggle (setup.py) ... \u001b[?25l\u001b[?25hdone\n",
            "  Created wheel for kaggle: filename=kaggle-1.5.8-py3-none-any.whl size=73275 sha256=18742e585202c753369788f887b1ed8fae36fb9fa3ee4410b4a6120b0e9fdcbb\n",
            "  Stored in directory: /root/.cache/pip/wheels/de/f7/d8/c3902cacb7e62cb611b1ad343d7cc07f42f7eb76ae3a52f3d1\n",
            "Successfully built kaggle\n",
            "Installing collected packages: kaggle\n",
            "  Attempting uninstall: kaggle\n",
            "    Found existing installation: kaggle 1.5.12\n",
            "    Uninstalling kaggle-1.5.12:\n",
            "      Successfully uninstalled kaggle-1.5.12\n",
            "Successfully installed kaggle-1.5.8\n"
          ]
        }
      ],
      "source": [
        "# TODO: Use the same Kaggle code from HW1P2\n",
        "!pip install --upgrade --force-reinstall --no-deps kaggle==1.5.8\n",
        "!mkdir /root/.kaggle\n",
        "\n",
        "with open(\"/root/.kaggle/kaggle.json\", \"w+\") as f:\n",
        "    f.write('{\"username\":\"ramanathan16\",\"key\":\"d4035f55a52974a7c4d6bae8054bc215\"}') \n",
        "    # Put your kaggle username & key here\n",
        "\n",
        "!chmod 600 /root/.kaggle/kaggle.json"
      ]
    },
    {
      "cell_type": "code",
      "execution_count": null,
      "metadata": {
        "colab": {
          "base_uri": "https://localhost:8080/"
        },
        "id": "3oFjaJTaRjT7",
        "outputId": "37b36e96-9973-42ca-aee5-8de1474a6fd7"
      },
      "outputs": [
        {
          "name": "stdout",
          "output_type": "stream",
          "text": [
            "Downloading 11-785-f22-hw2p2-classification.zip to /content\n",
            "100% 2.36G/2.37G [00:40<00:00, 105MB/s]\n",
            "100% 2.37G/2.37G [00:40<00:00, 62.5MB/s]\n",
            "Downloading 11-785-f22-hw2p2-verification.zip to /content\n",
            " 54% 9.00M/16.8M [00:00<00:00, 41.3MB/s]\n",
            "100% 16.8M/16.8M [00:00<00:00, 70.7MB/s]\n"
          ]
        }
      ],
      "source": [
        "!mkdir '/content/data'\n",
        "\n",
        "!kaggle competitions download -c 11-785-f22-hw2p2-classification\n",
        "!unzip -qo '11-785-f22-hw2p2-classification.zip' -d '/content/data'\n",
        "\n",
        "!kaggle competitions download -c 11-785-f22-hw2p2-verification\n",
        "!unzip -qo '11-785-f22-hw2p2-verification.zip' -d '/content/data'"
      ]
    },
    {
      "cell_type": "markdown",
      "metadata": {
        "id": "O68hT27SXClj"
      },
      "source": [
        "# Configs"
      ]
    },
    {
      "cell_type": "code",
      "execution_count": null,
      "metadata": {
        "id": "S7qpMxG0XCJz"
      },
      "outputs": [],
      "source": [
        "config = {\n",
        "    'batch_size': 128, # Increase this if your GPU can handle it\n",
        "    'lr': 0.0002,\n",
        "    'epochs': 100, # 10 epochs is recommended ONLY for the early submission - you will have to train for much longer typically.\n",
        "    # Include other parameters as needed.\n",
        "}"
      ]
    },
    {
      "cell_type": "markdown",
      "metadata": {
        "id": "sSeiKHYrM-6b"
      },
      "source": [
        "# Classification Dataset"
      ]
    },
    {
      "cell_type": "code",
      "execution_count": null,
      "metadata": {
        "id": "tmRX5omaNDEZ"
      },
      "outputs": [],
      "source": [
        "DATA_DIR = '/content/data/11-785-f22-hw2p2-classification/'# TODO: Path where you have downloaded the data\n",
        "TRAIN_DIR = os.path.join(DATA_DIR, \"classification/train\") \n",
        "VAL_DIR = os.path.join(DATA_DIR, \"classification/dev\")\n",
        "TEST_DIR = os.path.join(DATA_DIR, \"classification/test\")\n",
        "\n",
        "# Transforms using torchvision - Refer https://pytorch.org/vision/stable/transforms.html\n",
        "#normalize = torchvision.transforms.Normalize(mean=[0.485, 0.456, 0.406],\n",
        "                                 #std=[0.229, 0.224, 0.225])\n",
        "\n",
        "train_transforms = torchvision.transforms.Compose([ \n",
        "    # Implementing the right transforms/augmentation methods is key to improving performance.\n",
        "                    torchvision.transforms.ColorJitter(saturation=.2,brightness=.2, contrast=.2),\n",
        "                    torchvision.transforms.RandomPerspective(0.3,0.3),\n",
        "                    torchvision.transforms.RandomHorizontalFlip(),\n",
        "                    torchvision.transforms.RandAugment(),\n",
        "\n",
        "                    torchvision.transforms.ToTensor(),\n",
        "                    #normalize\n",
        "                     \n",
        "                    ])\n",
        "# Most torchvision transforms are done on PIL images. So you convert it into a tensor at the end with ToTensor()\n",
        "# But there are some transforms which are performed after ToTensor() : e.g - Normalization\n",
        "# Normalization Tip - Do not blindly use normalization that is not suitable for this dataset\n",
        "\n",
        "val_transforms = torchvision.transforms.Compose([torchvision.transforms.ToTensor()])\n",
        "\n",
        "\n",
        "train_dataset = torchvision.datasets.ImageFolder(TRAIN_DIR, transform = train_transforms)\n",
        "val_dataset = torchvision.datasets.ImageFolder(VAL_DIR, transform = val_transforms)\n",
        "# You should NOT have data augmentation on the validation set. Why?\n",
        "\n",
        "\n",
        "# Create data loaders\n",
        "train_loader = torch.utils.data.DataLoader(train_dataset, batch_size = config['batch_size'], \n",
        "                                           shuffle = True,num_workers = 4, pin_memory = True)\n",
        "val_loader = torch.utils.data.DataLoader(val_dataset, batch_size = config['batch_size'], \n",
        "                                         shuffle = False, num_workers = 2)"
      ]
    },
    {
      "cell_type": "code",
      "execution_count": null,
      "metadata": {
        "id": "SqSR063BGE2e"
      },
      "outputs": [],
      "source": [
        "# You can do this with ImageFolder as well, but it requires some tweaking\n",
        "class ClassificationTestDataset(torch.utils.data.Dataset):\n",
        "\n",
        "    def __init__(self, data_dir, transforms):\n",
        "        self.data_dir   = data_dir\n",
        "        self.transforms = transforms\n",
        "\n",
        "        # This one-liner basically generates a sorted list of full paths to each image in the test directory\n",
        "        self.img_paths  = list(map(lambda fname: os.path.join(self.data_dir, fname), sorted(os.listdir(self.data_dir))))\n",
        "\n",
        "    def __len__(self):\n",
        "        return len(self.img_paths)\n",
        "    \n",
        "    def __getitem__(self, idx):\n",
        "        return self.transforms(Image.open(self.img_paths[idx]))"
      ]
    },
    {
      "cell_type": "code",
      "execution_count": null,
      "metadata": {
        "id": "fVLB41KtGC2o"
      },
      "outputs": [],
      "source": [
        "test_dataset = ClassificationTestDataset(TEST_DIR, transforms = val_transforms) #Why are we using val_transforms for Test Data?\n",
        "test_loader = torch.utils.data.DataLoader(test_dataset, batch_size = config['batch_size'], shuffle = False,\n",
        "                         drop_last = False, num_workers = 2)"
      ]
    },
    {
      "cell_type": "code",
      "execution_count": null,
      "metadata": {
        "colab": {
          "base_uri": "https://localhost:8080/"
        },
        "id": "x4t8eU9gY0Jy",
        "outputId": "b7af940b-e062-4851-a8b4-7170d3306b17"
      },
      "outputs": [
        {
          "name": "stdout",
          "output_type": "stream",
          "text": [
            "Number of classes:  7000\n",
            "No. of train images:  140000\n",
            "Shape of image:  torch.Size([3, 224, 224])\n",
            "Batch size:  128\n",
            "Train batches:  1094\n",
            "Val batches:  274\n"
          ]
        }
      ],
      "source": [
        "print(\"Number of classes: \", len(train_dataset.classes))\n",
        "print(\"No. of train images: \", train_dataset.__len__())\n",
        "print(\"Shape of image: \", train_dataset[0][0].shape)\n",
        "print(\"Batch size: \", config['batch_size'])\n",
        "print(\"Train batches: \", train_loader.__len__())\n",
        "print(\"Val batches: \", val_loader.__len__())"
      ]
    },
    {
      "cell_type": "markdown",
      "metadata": {
        "id": "mIqmojPaWD0H"
      },
      "source": [
        "# ConvNeXt Model Architecture"
      ]
    },
    {
      "cell_type": "code",
      "execution_count": null,
      "metadata": {
        "colab": {
          "base_uri": "https://localhost:8080/"
        },
        "id": "20x1sWVnd7mB",
        "outputId": "2479d967-4fb5-497e-ca5d-5470a66d79b6"
      },
      "outputs": [
        {
          "name": "stdout",
          "output_type": "stream",
          "text": [
            "----------------------------------------------------------------\n",
            "        Layer (type)               Output Shape         Param #\n",
            "================================================================\n",
            "            Conv2d-1           [-1, 96, 56, 56]           4,704\n",
            "       BatchNorm2d-2           [-1, 96, 56, 56]             192\n",
            "            Conv2d-3           [-1, 96, 56, 56]           4,800\n",
            "       BatchNorm2d-4           [-1, 96, 56, 56]             192\n",
            "            Conv2d-5          [-1, 384, 56, 56]          37,248\n",
            "              GELU-6          [-1, 384, 56, 56]               0\n",
            "            Conv2d-7           [-1, 96, 56, 56]          36,960\n",
            "   StochasticDepth-8           [-1, 96, 56, 56]               0\n",
            "     ConvNextBlock-9           [-1, 96, 56, 56]               0\n",
            "           Conv2d-10           [-1, 96, 56, 56]           4,800\n",
            "      BatchNorm2d-11           [-1, 96, 56, 56]             192\n",
            "           Conv2d-12          [-1, 384, 56, 56]          37,248\n",
            "             GELU-13          [-1, 384, 56, 56]               0\n",
            "           Conv2d-14           [-1, 96, 56, 56]          36,960\n",
            "  StochasticDepth-15           [-1, 96, 56, 56]               0\n",
            "    ConvNextBlock-16           [-1, 96, 56, 56]               0\n",
            "           Conv2d-17           [-1, 96, 56, 56]           4,800\n",
            "      BatchNorm2d-18           [-1, 96, 56, 56]             192\n",
            "           Conv2d-19          [-1, 384, 56, 56]          37,248\n",
            "             GELU-20          [-1, 384, 56, 56]               0\n",
            "           Conv2d-21           [-1, 96, 56, 56]          36,960\n",
            "  StochasticDepth-22           [-1, 96, 56, 56]               0\n",
            "    ConvNextBlock-23           [-1, 96, 56, 56]               0\n",
            "           Conv2d-24          [-1, 192, 28, 28]          73,920\n",
            "      BatchNorm2d-25          [-1, 192, 28, 28]             384\n",
            "           Conv2d-26          [-1, 192, 28, 28]           9,600\n",
            "      BatchNorm2d-27          [-1, 192, 28, 28]             384\n",
            "           Conv2d-28          [-1, 768, 28, 28]         148,224\n",
            "             GELU-29          [-1, 768, 28, 28]               0\n",
            "           Conv2d-30          [-1, 192, 28, 28]         147,648\n",
            "  StochasticDepth-31          [-1, 192, 28, 28]               0\n",
            "    ConvNextBlock-32          [-1, 192, 28, 28]               0\n",
            "           Conv2d-33          [-1, 192, 28, 28]           9,600\n",
            "      BatchNorm2d-34          [-1, 192, 28, 28]             384\n",
            "           Conv2d-35          [-1, 768, 28, 28]         148,224\n",
            "             GELU-36          [-1, 768, 28, 28]               0\n",
            "           Conv2d-37          [-1, 192, 28, 28]         147,648\n",
            "  StochasticDepth-38          [-1, 192, 28, 28]               0\n",
            "    ConvNextBlock-39          [-1, 192, 28, 28]               0\n",
            "           Conv2d-40          [-1, 192, 28, 28]           9,600\n",
            "      BatchNorm2d-41          [-1, 192, 28, 28]             384\n",
            "           Conv2d-42          [-1, 768, 28, 28]         148,224\n",
            "             GELU-43          [-1, 768, 28, 28]               0\n",
            "           Conv2d-44          [-1, 192, 28, 28]         147,648\n",
            "  StochasticDepth-45          [-1, 192, 28, 28]               0\n",
            "    ConvNextBlock-46          [-1, 192, 28, 28]               0\n",
            "           Conv2d-47          [-1, 384, 14, 14]         295,296\n",
            "      BatchNorm2d-48          [-1, 384, 14, 14]             768\n",
            "           Conv2d-49          [-1, 384, 14, 14]          19,200\n",
            "      BatchNorm2d-50          [-1, 384, 14, 14]             768\n",
            "           Conv2d-51         [-1, 1536, 14, 14]         591,360\n",
            "             GELU-52         [-1, 1536, 14, 14]               0\n",
            "           Conv2d-53          [-1, 384, 14, 14]         590,208\n",
            "  StochasticDepth-54          [-1, 384, 14, 14]               0\n",
            "    ConvNextBlock-55          [-1, 384, 14, 14]               0\n",
            "           Conv2d-56          [-1, 384, 14, 14]          19,200\n",
            "      BatchNorm2d-57          [-1, 384, 14, 14]             768\n",
            "           Conv2d-58         [-1, 1536, 14, 14]         591,360\n",
            "             GELU-59         [-1, 1536, 14, 14]               0\n",
            "           Conv2d-60          [-1, 384, 14, 14]         590,208\n",
            "  StochasticDepth-61          [-1, 384, 14, 14]               0\n",
            "    ConvNextBlock-62          [-1, 384, 14, 14]               0\n",
            "           Conv2d-63          [-1, 384, 14, 14]          19,200\n",
            "      BatchNorm2d-64          [-1, 384, 14, 14]             768\n",
            "           Conv2d-65         [-1, 1536, 14, 14]         591,360\n",
            "             GELU-66         [-1, 1536, 14, 14]               0\n",
            "           Conv2d-67          [-1, 384, 14, 14]         590,208\n",
            "  StochasticDepth-68          [-1, 384, 14, 14]               0\n",
            "    ConvNextBlock-69          [-1, 384, 14, 14]               0\n",
            "           Conv2d-70          [-1, 384, 14, 14]          19,200\n",
            "      BatchNorm2d-71          [-1, 384, 14, 14]             768\n",
            "           Conv2d-72         [-1, 1536, 14, 14]         591,360\n",
            "             GELU-73         [-1, 1536, 14, 14]               0\n",
            "           Conv2d-74          [-1, 384, 14, 14]         590,208\n",
            "  StochasticDepth-75          [-1, 384, 14, 14]               0\n",
            "    ConvNextBlock-76          [-1, 384, 14, 14]               0\n",
            "           Conv2d-77          [-1, 384, 14, 14]          19,200\n",
            "      BatchNorm2d-78          [-1, 384, 14, 14]             768\n",
            "           Conv2d-79         [-1, 1536, 14, 14]         591,360\n",
            "             GELU-80         [-1, 1536, 14, 14]               0\n",
            "           Conv2d-81          [-1, 384, 14, 14]         590,208\n",
            "  StochasticDepth-82          [-1, 384, 14, 14]               0\n",
            "    ConvNextBlock-83          [-1, 384, 14, 14]               0\n",
            "           Conv2d-84          [-1, 384, 14, 14]          19,200\n",
            "      BatchNorm2d-85          [-1, 384, 14, 14]             768\n",
            "           Conv2d-86         [-1, 1536, 14, 14]         591,360\n",
            "             GELU-87         [-1, 1536, 14, 14]               0\n",
            "           Conv2d-88          [-1, 384, 14, 14]         590,208\n",
            "  StochasticDepth-89          [-1, 384, 14, 14]               0\n",
            "    ConvNextBlock-90          [-1, 384, 14, 14]               0\n",
            "           Conv2d-91          [-1, 384, 14, 14]          19,200\n",
            "      BatchNorm2d-92          [-1, 384, 14, 14]             768\n",
            "           Conv2d-93         [-1, 1536, 14, 14]         591,360\n",
            "             GELU-94         [-1, 1536, 14, 14]               0\n",
            "           Conv2d-95          [-1, 384, 14, 14]         590,208\n",
            "  StochasticDepth-96          [-1, 384, 14, 14]               0\n",
            "    ConvNextBlock-97          [-1, 384, 14, 14]               0\n",
            "           Conv2d-98          [-1, 384, 14, 14]          19,200\n",
            "      BatchNorm2d-99          [-1, 384, 14, 14]             768\n",
            "          Conv2d-100         [-1, 1536, 14, 14]         591,360\n",
            "            GELU-101         [-1, 1536, 14, 14]               0\n",
            "          Conv2d-102          [-1, 384, 14, 14]         590,208\n",
            " StochasticDepth-103          [-1, 384, 14, 14]               0\n",
            "   ConvNextBlock-104          [-1, 384, 14, 14]               0\n",
            "          Conv2d-105          [-1, 384, 14, 14]          19,200\n",
            "     BatchNorm2d-106          [-1, 384, 14, 14]             768\n",
            "          Conv2d-107         [-1, 1536, 14, 14]         591,360\n",
            "            GELU-108         [-1, 1536, 14, 14]               0\n",
            "          Conv2d-109          [-1, 384, 14, 14]         590,208\n",
            " StochasticDepth-110          [-1, 384, 14, 14]               0\n",
            "   ConvNextBlock-111          [-1, 384, 14, 14]               0\n",
            "          Conv2d-112            [-1, 768, 7, 7]       1,180,416\n",
            "     BatchNorm2d-113            [-1, 768, 7, 7]           1,536\n",
            "          Conv2d-114            [-1, 768, 7, 7]          38,400\n",
            "     BatchNorm2d-115            [-1, 768, 7, 7]           1,536\n",
            "          Conv2d-116           [-1, 3072, 7, 7]       2,362,368\n",
            "            GELU-117           [-1, 3072, 7, 7]               0\n",
            "          Conv2d-118            [-1, 768, 7, 7]       2,360,064\n",
            " StochasticDepth-119            [-1, 768, 7, 7]               0\n",
            "   ConvNextBlock-120            [-1, 768, 7, 7]               0\n",
            "          Conv2d-121            [-1, 768, 7, 7]          38,400\n",
            "     BatchNorm2d-122            [-1, 768, 7, 7]           1,536\n",
            "          Conv2d-123           [-1, 3072, 7, 7]       2,362,368\n",
            "            GELU-124           [-1, 3072, 7, 7]               0\n",
            "          Conv2d-125            [-1, 768, 7, 7]       2,360,064\n",
            " StochasticDepth-126            [-1, 768, 7, 7]               0\n",
            "   ConvNextBlock-127            [-1, 768, 7, 7]               0\n",
            "          Conv2d-128            [-1, 768, 7, 7]          38,400\n",
            "     BatchNorm2d-129            [-1, 768, 7, 7]           1,536\n",
            "          Conv2d-130           [-1, 3072, 7, 7]       2,362,368\n",
            "            GELU-131           [-1, 3072, 7, 7]               0\n",
            "          Conv2d-132            [-1, 768, 7, 7]       2,360,064\n",
            " StochasticDepth-133            [-1, 768, 7, 7]               0\n",
            "   ConvNextBlock-134            [-1, 768, 7, 7]               0\n",
            "     BatchNorm2d-135            [-1, 768, 1, 1]           1,536\n",
            "          Linear-136                 [-1, 7000]       5,383,000\n",
            "================================================================\n",
            "Total params: 33,197,848\n",
            "Trainable params: 33,197,848\n",
            "Non-trainable params: 0\n",
            "----------------------------------------------------------------\n",
            "Input size (MB): 0.57\n",
            "Forward/backward pass size (MB): 221.42\n",
            "Params size (MB): 126.64\n",
            "Estimated Total Size (MB): 348.63\n",
            "----------------------------------------------------------------\n"
          ]
        }
      ],
      "source": [
        "class ConvNextBlock(torch.nn.Module):\n",
        "    def __init__(self,ch):\n",
        "        super().__init__()\n",
        "\n",
        "        self.block = torch.nn.Sequential(\n",
        "\n",
        "            torch.nn.Conv2d(ch,ch,7,padding=3,groups=ch),\n",
        "            torch.nn.BatchNorm2d(ch),\n",
        "            torch.nn.Conv2d(ch,ch*4,1),\n",
        "            torch.nn.GELU(),\n",
        "            torch.nn.Conv2d(ch*4,ch,1),\n",
        "            ) \n",
        "        self.stochastic_depth = torchvision.ops.StochasticDepth(p=0.1,mode=\"batch\")\n",
        "    def forward(self, x):\n",
        "        inp = x\n",
        "        out = self.block(x)\n",
        "        out = inp+self.stochastic_depth(out)\n",
        "        return out\n",
        "\n",
        "\n",
        "class Network(torch.nn.Module):\n",
        "    \n",
        "\n",
        "    def __init__(self, num_classes=7000):\n",
        "        super().__init__()\n",
        "\n",
        "        self.backbone = torch.nn.Sequential(\n",
        "            torch.nn.Conv2d(3,96,4,4),\n",
        "            torch.nn.BatchNorm2d(96),\n",
        "            ConvNextBlock(96),\n",
        "            ConvNextBlock(96),\n",
        "            ConvNextBlock(96),\n",
        "            torch.nn.Conv2d(96,192,2,2),\n",
        "            torch.nn.BatchNorm2d(192),\n",
        "            ConvNextBlock(192),\n",
        "            ConvNextBlock(192),\n",
        "            ConvNextBlock(192),\n",
        "            torch.nn.Conv2d(192,384,2,2),\n",
        "            torch.nn.BatchNorm2d(384),\n",
        "            ConvNextBlock(384),\n",
        "            ConvNextBlock(384),\n",
        "            ConvNextBlock(384),\n",
        "            ConvNextBlock(384),\n",
        "            ConvNextBlock(384),\n",
        "            ConvNextBlock(384),\n",
        "            ConvNextBlock(384),\n",
        "            ConvNextBlock(384),\n",
        "            ConvNextBlock(384),\n",
        "            torch.nn.Conv2d(384,768,2,2),\n",
        "            torch.nn.BatchNorm2d(768),\n",
        "            ConvNextBlock(768),\n",
        "            ConvNextBlock(768),\n",
        "            ConvNextBlock(768),\n",
        "            # torch.nn.Conv2d(768,768,2,2),\n",
        "            ) \n",
        "        self.bn = torch.nn.BatchNorm2d(768)\n",
        "        self.cls_layer = torch.nn.Linear(768,num_classes)\n",
        "    \n",
        "    def forward(self, x, return_feats=False):\n",
        "       \n",
        "        beforepool = self.backbone(x)\n",
        "        afterpool = beforepool.mean([-2,-1],keepdim=True)\n",
        "        norm = self.bn(afterpool)\n",
        "        out = self.cls_layer(norm.squeeze())\n",
        "\n",
        "        if return_feats:\n",
        "            return out,norm\n",
        "        else:\n",
        "            return out\n",
        "            \n",
        "model = Network().to(device)\n",
        "summary(model, (3, 224, 224))"
      ]
    },
    {
      "cell_type": "code",
      "execution_count": null,
      "metadata": {
        "id": "Nde0yOKd7Rmx"
      },
      "outputs": [],
      "source": [
        "model = torch.load('./model_checkpoint_best_accuracy-23.pth')\n"
      ]
    },
    {
      "cell_type": "code",
      "execution_count": null,
      "metadata": {
        "id": "NvQGISiNuqjT"
      },
      "outputs": [],
      "source": [
        "import torch.nn as nn\n",
        "\n",
        "class CenterLoss(nn.Module):\n",
        "    \"\"\"Center Loss\n",
        "        Center Loss Paper:\n",
        "        https://ydwen.github.io/papers/WenECCV16.pdf\n",
        "    Args:\n",
        "        nn (type): description\n",
        "    \"\"\"\n",
        "    def __init__(self, num_classes=7000, feat_dim=768):\n",
        "        super(CenterLoss, self).__init__()\n",
        "        self.num_classes = num_classes\n",
        "        self.feat_dim = feat_dim\n",
        "        \n",
        "        self.centers = nn.Parameter(torch.randn(self.num_classes, self.feat_dim).cuda())\n",
        "\n",
        "    def forward(self, x, labels):\n",
        "        \"\"\"\n",
        "        Args:\n",
        "            x: feature matrix with shape (batch_size, feat_dim).\n",
        "            labels: ground truth labels with shape (batch_size).\n",
        "        \"\"\"\n",
        "        batch_size, _ = x.size()\n",
        "        centers = self.centers[labels]\n",
        "        dist = torch.pow((centers - x), 2).sum(dim=1)\n",
        "        dist = torch.clamp(dist, min=1e-12, max=1e+12)\n",
        "        loss = torch.mean(dist)/2\n",
        "\n",
        "        return loss"
      ]
    },
    {
      "cell_type": "markdown",
      "metadata": {
        "id": "KZCn0qHuZRKj"
      },
      "source": [
        "# Setup everything for training"
      ]
    },
    {
      "cell_type": "code",
      "execution_count": null,
      "metadata": {
        "id": "UowI9OcUYPjP"
      },
      "outputs": [],
      "source": [
        "from torch.optim.lr_scheduler import StepLR,CosineAnnealingLR,ReduceLROnPlateau,ExponentialLR\n",
        "criterion = torch.nn.CrossEntropyLoss(label_smoothing=0.2)# TODO: What loss do you need for a multi class classification problem?\n",
        "#c_criterion = CenterLoss()\n",
        "\n",
        "#optimizer_centre = torch.optim.SGD(c_criterion.parameters(),lr=config[\"lr\"])\n",
        "optimizer = torch.optim.SGD(model.parameters(), lr=config['lr'], momentum=0.9, weight_decay=1e-4) #Defining Optimizer\n",
        "#scheduler = ReduceLROnPlateau(optimizer,patience=4,mode='max',verbose=True,factor=0.5)\n",
        "\n",
        "scheduler = torch.optim.lr_scheduler.CosineAnnealingLR(optimizer,100*train_loader.__len__())\n",
        "\n",
        "# TODO: Implement a scheduler (Optional but Highly Recommended)\n",
        "# You can try ReduceLRonPlateau, StepLR, MultistepLR, CosineAnnealing, etc.\n",
        "scaler = torch.cuda.amp.GradScaler() # Good news. We have FP16 (Mixed precision training) implemented for you\n",
        "# It is useful only in the case of compatible GPUs such as T4/V100"
      ]
    },
    {
      "cell_type": "markdown",
      "metadata": {
        "id": "dzM11HtcboYv"
      },
      "source": [
        "# Let's train!"
      ]
    },
    {
      "cell_type": "code",
      "execution_count": null,
      "metadata": {
        "id": "bgSw6iJJavBZ"
      },
      "outputs": [],
      "source": [
        "def train(model, dataloader, optimizer, criterion):\n",
        "    \n",
        "    model.train()\n",
        "\n",
        "    # Progress Bar \n",
        "    batch_bar = tqdm(total=len(dataloader), dynamic_ncols=True, leave=False, position=0, desc='Train', ncols=5) \n",
        "    \n",
        "    num_correct = 0\n",
        "    total_loss = 0\n",
        "\n",
        "    for i, (images, labels) in enumerate(dataloader):\n",
        "        \n",
        "        optimizer.zero_grad() # Zero gradients\n",
        "\n",
        "        images, labels = images.to(device), labels.to(device)\n",
        "        \n",
        "        with torch.cuda.amp.autocast(): # This implements mixed precision. Thats it! \n",
        "            outputs = model(images)\n",
        "            loss = criterion(outputs, labels)\n",
        "\n",
        "        # Update no. of correct predictions & loss as we iterate\n",
        "        num_correct += int((torch.argmax(outputs, axis=1) == labels).sum())\n",
        "        total_loss += float(loss.item())\n",
        "\n",
        "        # tqdm lets you add some details so you can monitor training as you train.\n",
        "        batch_bar.set_postfix(\n",
        "            acc=\"{:.04f}%\".format(100 * num_correct / (config['batch_size']*(i + 1))),\n",
        "            loss=\"{:.04f}\".format(float(total_loss / (i + 1))),\n",
        "            num_correct=num_correct,\n",
        "            lr=\"{:.04f}\".format(float(optimizer.param_groups[0]['lr'])))\n",
        "        \n",
        "        scaler.scale(loss).backward() # This is a replacement for loss.backward()\n",
        "        scaler.step(optimizer) # This is a replacement for optimizer.step()\n",
        "        scaler.update()\n",
        "        #optimizer.step() \n",
        "        scheduler.step()\n",
        "\n",
        "        # TODO? Depending on your choice of scheduler,\n",
        "        # You may want to call some schdulers inside the train function. What are these?\n",
        "      \n",
        "        batch_bar.update() # Update tqdm bar\n",
        "\n",
        "    batch_bar.close() # You need this to close the tqdm bar\n",
        "\n",
        "    acc = 100 * num_correct / (config['batch_size']* len(dataloader))\n",
        "    total_loss = float(total_loss / len(dataloader))\n",
        "\n",
        "    return acc, total_loss"
      ]
    },
    {
      "cell_type": "code",
      "execution_count": null,
      "metadata": {
        "id": "m5V2UdnpdEoK"
      },
      "outputs": [],
      "source": [
        "def validate(model, dataloader, criterion):\n",
        "  \n",
        "    model.eval()\n",
        "    batch_bar = tqdm(total=len(dataloader), dynamic_ncols=True, position=0, leave=False, desc='Val', ncols=5)\n",
        "\n",
        "    num_correct = 0.0\n",
        "    total_loss = 0.0\n",
        "\n",
        "    for i, (images, labels) in enumerate(dataloader):\n",
        "        \n",
        "        # Move images to device\n",
        "        images, labels = images.to(device), labels.to(device)\n",
        "        \n",
        "        # Get model outputs\n",
        "        with torch.inference_mode():\n",
        "            outputs = model(images)\n",
        "            loss = criterion(outputs, labels)\n",
        "\n",
        "        num_correct += int((torch.argmax(outputs, axis=1) == labels).sum())\n",
        "        total_loss += float(loss.item())\n",
        "\n",
        "        batch_bar.set_postfix(\n",
        "            acc=\"{:.04f}%\".format(100 * num_correct / (config['batch_size']*(i + 1))),\n",
        "            loss=\"{:.04f}\".format(float(total_loss / (i + 1))),\n",
        "            num_correct=num_correct)\n",
        "\n",
        "        batch_bar.update()\n",
        "        \n",
        "    batch_bar.close()\n",
        "    acc = 100 * num_correct / (config['batch_size']* len(dataloader))\n",
        "    total_loss = float(total_loss / len(dataloader))\n",
        "    return acc, total_loss"
      ]
    },
    {
      "cell_type": "code",
      "execution_count": null,
      "metadata": {
        "id": "cmotca6pcLLY"
      },
      "outputs": [],
      "source": [
        "gc.collect() # These commands help you when you face CUDA OOM error\n",
        "torch.cuda.empty_cache()"
      ]
    },
    {
      "cell_type": "markdown",
      "metadata": {
        "id": "2mBgKGkXLrdJ"
      },
      "source": [
        "# Wandb"
      ]
    },
    {
      "cell_type": "code",
      "execution_count": null,
      "metadata": {
        "colab": {
          "base_uri": "https://localhost:8080/"
        },
        "id": "Ix62_BkaLr_D",
        "outputId": "b928fef9-7afb-407d-9b10-f6cea2582a98"
      },
      "outputs": [
        {
          "name": "stderr",
          "output_type": "stream",
          "text": [
            "ERROR:wandb.jupyter:Failed to detect the name of this notebook, you can set it manually with the WANDB_NOTEBOOK_NAME environment variable to enable code saving.\n",
            "\u001b[34m\u001b[1mwandb\u001b[0m: W&B API key is configured. Use \u001b[1m`wandb login --relogin`\u001b[0m to force relogin\n",
            "\u001b[34m\u001b[1mwandb\u001b[0m: \u001b[33mWARNING\u001b[0m If you're specifying your api key in code, ensure this code is not shared publicly.\n",
            "\u001b[34m\u001b[1mwandb\u001b[0m: \u001b[33mWARNING\u001b[0m Consider setting the WANDB_API_KEY environment variable, or running `wandb login` from the command line.\n",
            "\u001b[34m\u001b[1mwandb\u001b[0m: Appending key for api.wandb.ai to your netrc file: /root/.netrc\n"
          ]
        },
        {
          "data": {
            "text/plain": [
              "True"
            ]
          },
          "execution_count": 16,
          "metadata": {},
          "output_type": "execute_result"
        }
      ],
      "source": [
        "wandb.login(key=\"0f42a1910060e4a99487f7b1241e7d8a3d45182b\") #API Key is in your wandb account, under settings (wandb.ai/settings)"
      ]
    },
    {
      "cell_type": "code",
      "execution_count": null,
      "metadata": {
        "colab": {
          "base_uri": "https://localhost:8080/",
          "height": 85
        },
        "id": "VG0vmsmbRYEi",
        "outputId": "19383f61-5dea-406b-fd0b-caf5b7f4ff05"
      },
      "outputs": [
        {
          "name": "stderr",
          "output_type": "stream",
          "text": [
            "\u001b[34m\u001b[1mwandb\u001b[0m: Currently logged in as: \u001b[33mram-kasi\u001b[0m. Use \u001b[1m`wandb login --relogin`\u001b[0m to force relogin\n"
          ]
        },
        {
          "data": {
            "text/html": [
              "Tracking run with wandb version 0.13.4"
            ],
            "text/plain": [
              "<IPython.core.display.HTML object>"
            ]
          },
          "metadata": {},
          "output_type": "display_data"
        },
        {
          "data": {
            "text/html": [
              "Run data is saved locally in <code>/content/wandb/run-20221101_002618-2rly0r1q</code>"
            ],
            "text/plain": [
              "<IPython.core.display.HTML object>"
            ]
          },
          "metadata": {},
          "output_type": "display_data"
        },
        {
          "data": {
            "text/html": [
              "Syncing run <strong><a href=\"https://wandb.ai/ram-kasi/hw2p2-ablations/runs/2rly0r1q\" target=\"_blank\">ConvNext-3 dropouts</a></strong> to <a href=\"https://wandb.ai/ram-kasi/hw2p2-ablations\" target=\"_blank\">Weights & Biases</a> (<a href=\"https://wandb.me/run\" target=\"_blank\">docs</a>)<br/>"
            ],
            "text/plain": [
              "<IPython.core.display.HTML object>"
            ]
          },
          "metadata": {},
          "output_type": "display_data"
        }
      ],
      "source": [
        "# Create your wandb run\n",
        "run = wandb.init(\n",
        "    name = \"ConvNext-3 dropouts\", ## Wandb creates random run names if you skip this field\n",
        "    #reinit = True, ### Allows reinitalizing runs when you re-run this cell\n",
        "    # run_id = ### Insert specific run id here if you want to resume a previous run\n",
        "    # resume = \"must\" ### You need this to resume previous runs, but comment out reinit = True when using this\n",
        "    project = \"hw2p2-ablations\", ### Project should be created in your wandb account \n",
        "    config = config ### Wandb Config for your run\n",
        ")"
      ]
    },
    {
      "cell_type": "markdown",
      "metadata": {
        "id": "SQkRw1FvLqYe"
      },
      "source": [
        "# Experiments"
      ]
    },
    {
      "cell_type": "code",
      "execution_count": null,
      "metadata": {
        "colab": {
          "base_uri": "https://localhost:8080/",
          "height": 392
        },
        "id": "EqWO8Edb0BK2",
        "outputId": "ee195466-d1fd-4177-99c2-a95c66c7e6fe"
      },
      "outputs": [
        {
          "name": "stderr",
          "output_type": "stream",
          "text": [
            "Train:   8%|▊         | 84/1094 [01:07<12:57,  1.30it/s, acc=99.9908%, loss=2.3989, lr=0.0002, num_correct=10879]"
          ]
        },
        {
          "ename": "KeyboardInterrupt",
          "evalue": "ignored",
          "output_type": "error",
          "traceback": [
            "\u001b[0;31m---------------------------------------------------------------------------\u001b[0m",
            "\u001b[0;31mKeyboardInterrupt\u001b[0m                         Traceback (most recent call last)",
            "\u001b[0;32m<ipython-input-18-ade6ac45f8d6>\u001b[0m in \u001b[0;36m<module>\u001b[0;34m\u001b[0m\n\u001b[1;32m      6\u001b[0m     \u001b[0mcurr_lr\u001b[0m \u001b[0;34m=\u001b[0m \u001b[0mfloat\u001b[0m\u001b[0;34m(\u001b[0m\u001b[0moptimizer\u001b[0m\u001b[0;34m.\u001b[0m\u001b[0mparam_groups\u001b[0m\u001b[0;34m[\u001b[0m\u001b[0;36m0\u001b[0m\u001b[0;34m]\u001b[0m\u001b[0;34m[\u001b[0m\u001b[0;34m'lr'\u001b[0m\u001b[0;34m]\u001b[0m\u001b[0;34m)\u001b[0m\u001b[0;34m\u001b[0m\u001b[0;34m\u001b[0m\u001b[0m\n\u001b[1;32m      7\u001b[0m \u001b[0;34m\u001b[0m\u001b[0m\n\u001b[0;32m----> 8\u001b[0;31m     \u001b[0mtrain_acc\u001b[0m\u001b[0;34m,\u001b[0m \u001b[0mtrain_loss\u001b[0m \u001b[0;34m=\u001b[0m \u001b[0mtrain\u001b[0m\u001b[0;34m(\u001b[0m\u001b[0mmodel\u001b[0m\u001b[0;34m,\u001b[0m \u001b[0mtrain_loader\u001b[0m\u001b[0;34m,\u001b[0m \u001b[0moptimizer\u001b[0m\u001b[0;34m,\u001b[0m \u001b[0mcriterion\u001b[0m\u001b[0;34m)\u001b[0m\u001b[0;34m\u001b[0m\u001b[0;34m\u001b[0m\u001b[0m\n\u001b[0m\u001b[1;32m      9\u001b[0m \u001b[0;34m\u001b[0m\u001b[0m\n\u001b[1;32m     10\u001b[0m     print(\"\\nEpoch {}/{}: \\nTrain Acc {:.04f}%\\t Train Loss {:.04f}\\t Learning Rate {:.06f}\".format(\n",
            "\u001b[0;32m<ipython-input-13-060578442497>\u001b[0m in \u001b[0;36mtrain\u001b[0;34m(model, dataloader, optimizer, criterion)\u001b[0m\n\u001b[1;32m     31\u001b[0m \u001b[0;34m\u001b[0m\u001b[0m\n\u001b[1;32m     32\u001b[0m         \u001b[0mscaler\u001b[0m\u001b[0;34m.\u001b[0m\u001b[0mscale\u001b[0m\u001b[0;34m(\u001b[0m\u001b[0mloss\u001b[0m\u001b[0;34m)\u001b[0m\u001b[0;34m.\u001b[0m\u001b[0mbackward\u001b[0m\u001b[0;34m(\u001b[0m\u001b[0;34m)\u001b[0m \u001b[0;31m# This is a replacement for loss.backward()\u001b[0m\u001b[0;34m\u001b[0m\u001b[0;34m\u001b[0m\u001b[0m\n\u001b[0;32m---> 33\u001b[0;31m         \u001b[0mscaler\u001b[0m\u001b[0;34m.\u001b[0m\u001b[0mstep\u001b[0m\u001b[0;34m(\u001b[0m\u001b[0moptimizer\u001b[0m\u001b[0;34m)\u001b[0m \u001b[0;31m# This is a replacement for optimizer.step()\u001b[0m\u001b[0;34m\u001b[0m\u001b[0;34m\u001b[0m\u001b[0m\n\u001b[0m\u001b[1;32m     34\u001b[0m         \u001b[0mscaler\u001b[0m\u001b[0;34m.\u001b[0m\u001b[0mupdate\u001b[0m\u001b[0;34m(\u001b[0m\u001b[0;34m)\u001b[0m\u001b[0;34m\u001b[0m\u001b[0;34m\u001b[0m\u001b[0m\n\u001b[1;32m     35\u001b[0m         \u001b[0;31m#optimizer.step()\u001b[0m\u001b[0;34m\u001b[0m\u001b[0;34m\u001b[0m\u001b[0;34m\u001b[0m\u001b[0m\n",
            "\u001b[0;32m/usr/local/lib/python3.7/dist-packages/torch/cuda/amp/grad_scaler.py\u001b[0m in \u001b[0;36mstep\u001b[0;34m(self, optimizer, *args, **kwargs)\u001b[0m\n\u001b[1;32m    336\u001b[0m         \u001b[0;32massert\u001b[0m \u001b[0mlen\u001b[0m\u001b[0;34m(\u001b[0m\u001b[0moptimizer_state\u001b[0m\u001b[0;34m[\u001b[0m\u001b[0;34m\"found_inf_per_device\"\u001b[0m\u001b[0;34m]\u001b[0m\u001b[0;34m)\u001b[0m \u001b[0;34m>\u001b[0m \u001b[0;36m0\u001b[0m\u001b[0;34m,\u001b[0m \u001b[0;34m\"No inf checks were recorded for this optimizer.\"\u001b[0m\u001b[0;34m\u001b[0m\u001b[0;34m\u001b[0m\u001b[0m\n\u001b[1;32m    337\u001b[0m \u001b[0;34m\u001b[0m\u001b[0m\n\u001b[0;32m--> 338\u001b[0;31m         \u001b[0mretval\u001b[0m \u001b[0;34m=\u001b[0m \u001b[0mself\u001b[0m\u001b[0;34m.\u001b[0m\u001b[0m_maybe_opt_step\u001b[0m\u001b[0;34m(\u001b[0m\u001b[0moptimizer\u001b[0m\u001b[0;34m,\u001b[0m \u001b[0moptimizer_state\u001b[0m\u001b[0;34m,\u001b[0m \u001b[0;34m*\u001b[0m\u001b[0margs\u001b[0m\u001b[0;34m,\u001b[0m \u001b[0;34m**\u001b[0m\u001b[0mkwargs\u001b[0m\u001b[0;34m)\u001b[0m\u001b[0;34m\u001b[0m\u001b[0;34m\u001b[0m\u001b[0m\n\u001b[0m\u001b[1;32m    339\u001b[0m \u001b[0;34m\u001b[0m\u001b[0m\n\u001b[1;32m    340\u001b[0m         \u001b[0moptimizer_state\u001b[0m\u001b[0;34m[\u001b[0m\u001b[0;34m\"stage\"\u001b[0m\u001b[0;34m]\u001b[0m \u001b[0;34m=\u001b[0m \u001b[0mOptState\u001b[0m\u001b[0;34m.\u001b[0m\u001b[0mSTEPPED\u001b[0m\u001b[0;34m\u001b[0m\u001b[0;34m\u001b[0m\u001b[0m\n",
            "\u001b[0;32m/usr/local/lib/python3.7/dist-packages/torch/cuda/amp/grad_scaler.py\u001b[0m in \u001b[0;36m_maybe_opt_step\u001b[0;34m(self, optimizer, optimizer_state, *args, **kwargs)\u001b[0m\n\u001b[1;32m    282\u001b[0m     \u001b[0;32mdef\u001b[0m \u001b[0m_maybe_opt_step\u001b[0m\u001b[0;34m(\u001b[0m\u001b[0mself\u001b[0m\u001b[0;34m,\u001b[0m \u001b[0moptimizer\u001b[0m\u001b[0;34m,\u001b[0m \u001b[0moptimizer_state\u001b[0m\u001b[0;34m,\u001b[0m \u001b[0;34m*\u001b[0m\u001b[0margs\u001b[0m\u001b[0;34m,\u001b[0m \u001b[0;34m**\u001b[0m\u001b[0mkwargs\u001b[0m\u001b[0;34m)\u001b[0m\u001b[0;34m:\u001b[0m\u001b[0;34m\u001b[0m\u001b[0;34m\u001b[0m\u001b[0m\n\u001b[1;32m    283\u001b[0m         \u001b[0mretval\u001b[0m \u001b[0;34m=\u001b[0m \u001b[0;32mNone\u001b[0m\u001b[0;34m\u001b[0m\u001b[0;34m\u001b[0m\u001b[0m\n\u001b[0;32m--> 284\u001b[0;31m         \u001b[0;32mif\u001b[0m \u001b[0;32mnot\u001b[0m \u001b[0msum\u001b[0m\u001b[0;34m(\u001b[0m\u001b[0mv\u001b[0m\u001b[0;34m.\u001b[0m\u001b[0mitem\u001b[0m\u001b[0;34m(\u001b[0m\u001b[0;34m)\u001b[0m \u001b[0;32mfor\u001b[0m \u001b[0mv\u001b[0m \u001b[0;32min\u001b[0m \u001b[0moptimizer_state\u001b[0m\u001b[0;34m[\u001b[0m\u001b[0;34m\"found_inf_per_device\"\u001b[0m\u001b[0;34m]\u001b[0m\u001b[0;34m.\u001b[0m\u001b[0mvalues\u001b[0m\u001b[0;34m(\u001b[0m\u001b[0;34m)\u001b[0m\u001b[0;34m)\u001b[0m\u001b[0;34m:\u001b[0m\u001b[0;34m\u001b[0m\u001b[0;34m\u001b[0m\u001b[0m\n\u001b[0m\u001b[1;32m    285\u001b[0m             \u001b[0mretval\u001b[0m \u001b[0;34m=\u001b[0m \u001b[0moptimizer\u001b[0m\u001b[0;34m.\u001b[0m\u001b[0mstep\u001b[0m\u001b[0;34m(\u001b[0m\u001b[0;34m*\u001b[0m\u001b[0margs\u001b[0m\u001b[0;34m,\u001b[0m \u001b[0;34m**\u001b[0m\u001b[0mkwargs\u001b[0m\u001b[0;34m)\u001b[0m\u001b[0;34m\u001b[0m\u001b[0;34m\u001b[0m\u001b[0m\n\u001b[1;32m    286\u001b[0m         \u001b[0;32mreturn\u001b[0m \u001b[0mretval\u001b[0m\u001b[0;34m\u001b[0m\u001b[0;34m\u001b[0m\u001b[0m\n",
            "\u001b[0;32m/usr/local/lib/python3.7/dist-packages/torch/cuda/amp/grad_scaler.py\u001b[0m in \u001b[0;36m<genexpr>\u001b[0;34m(.0)\u001b[0m\n\u001b[1;32m    282\u001b[0m     \u001b[0;32mdef\u001b[0m \u001b[0m_maybe_opt_step\u001b[0m\u001b[0;34m(\u001b[0m\u001b[0mself\u001b[0m\u001b[0;34m,\u001b[0m \u001b[0moptimizer\u001b[0m\u001b[0;34m,\u001b[0m \u001b[0moptimizer_state\u001b[0m\u001b[0;34m,\u001b[0m \u001b[0;34m*\u001b[0m\u001b[0margs\u001b[0m\u001b[0;34m,\u001b[0m \u001b[0;34m**\u001b[0m\u001b[0mkwargs\u001b[0m\u001b[0;34m)\u001b[0m\u001b[0;34m:\u001b[0m\u001b[0;34m\u001b[0m\u001b[0;34m\u001b[0m\u001b[0m\n\u001b[1;32m    283\u001b[0m         \u001b[0mretval\u001b[0m \u001b[0;34m=\u001b[0m \u001b[0;32mNone\u001b[0m\u001b[0;34m\u001b[0m\u001b[0;34m\u001b[0m\u001b[0m\n\u001b[0;32m--> 284\u001b[0;31m         \u001b[0;32mif\u001b[0m \u001b[0;32mnot\u001b[0m \u001b[0msum\u001b[0m\u001b[0;34m(\u001b[0m\u001b[0mv\u001b[0m\u001b[0;34m.\u001b[0m\u001b[0mitem\u001b[0m\u001b[0;34m(\u001b[0m\u001b[0;34m)\u001b[0m \u001b[0;32mfor\u001b[0m \u001b[0mv\u001b[0m \u001b[0;32min\u001b[0m \u001b[0moptimizer_state\u001b[0m\u001b[0;34m[\u001b[0m\u001b[0;34m\"found_inf_per_device\"\u001b[0m\u001b[0;34m]\u001b[0m\u001b[0;34m.\u001b[0m\u001b[0mvalues\u001b[0m\u001b[0;34m(\u001b[0m\u001b[0;34m)\u001b[0m\u001b[0;34m)\u001b[0m\u001b[0;34m:\u001b[0m\u001b[0;34m\u001b[0m\u001b[0;34m\u001b[0m\u001b[0m\n\u001b[0m\u001b[1;32m    285\u001b[0m             \u001b[0mretval\u001b[0m \u001b[0;34m=\u001b[0m \u001b[0moptimizer\u001b[0m\u001b[0;34m.\u001b[0m\u001b[0mstep\u001b[0m\u001b[0;34m(\u001b[0m\u001b[0;34m*\u001b[0m\u001b[0margs\u001b[0m\u001b[0;34m,\u001b[0m \u001b[0;34m**\u001b[0m\u001b[0mkwargs\u001b[0m\u001b[0;34m)\u001b[0m\u001b[0;34m\u001b[0m\u001b[0;34m\u001b[0m\u001b[0m\n\u001b[1;32m    286\u001b[0m         \u001b[0;32mreturn\u001b[0m \u001b[0mretval\u001b[0m\u001b[0;34m\u001b[0m\u001b[0;34m\u001b[0m\u001b[0m\n",
            "\u001b[0;31mKeyboardInterrupt\u001b[0m: "
          ]
        }
      ],
      "source": [
        "best_valacc = 91\n",
        "\n",
        "\n",
        "for epoch in range(config['epochs']):\n",
        "\n",
        "    curr_lr = float(optimizer.param_groups[0]['lr'])\n",
        "\n",
        "    train_acc, train_loss = train(model, train_loader, optimizer, criterion)\n",
        "    \n",
        "    print(\"\\nEpoch {}/{}: \\nTrain Acc {:.04f}%\\t Train Loss {:.04f}\\t Learning Rate {:.06f}\".format(\n",
        "        epoch + 1,\n",
        "        config['epochs'],\n",
        "        train_acc,\n",
        "        train_loss,\n",
        "        curr_lr))\n",
        "    \n",
        "    val_acc, val_loss = validate(model, val_loader, criterion)\n",
        "\n",
        "    #scheduler.step(val_acc)\n",
        "    \n",
        "    print(\"Val Acc {:.04f}%\\t Val Loss {:.04f}\".format(val_acc, val_loss))\n",
        "\n",
        "    wandb.log({\"train_loss\":train_loss, 'train_Acc': train_acc, 'validation_Acc':val_acc, \n",
        "               'validation_loss': val_loss, \"learning_Rate\": curr_lr})\n",
        "    \n",
        "    # If you are using a scheduler in your train function within your iteration loop, you may want to log\n",
        "    # your learning rate differently \n",
        "\n",
        "    # #Save model in drive location if val_acc is better than best recorded val_acc\n",
        "    if val_acc >= best_valacc:\n",
        "      #path = os.path.join(root, model_directory, 'checkpoint' + '.pth')\n",
        "      print(\"Saving model\")\n",
        "      torch.save({'model_state_dict':model.state_dict(),\n",
        "                  'optimizer_state_dict':optimizer.state_dict(),\n",
        "                  #'scheduler_state_dict':scheduler.state_dict(),\n",
        "                  'val_acc': val_acc, \n",
        "                  'epoch': epoch}, './checkpoint.pth')\n",
        "      torch.save(model,'./model_checkpoint_best_accuracy.pth')\n",
        "      \n",
        "      best_valacc = val_acc\n",
        "     # wandb.save('checkpoint.pth')\n",
        "      # You may find it interesting to exlplore Wandb Artifcats to version your models\n",
        "run.finish()"
      ]
    },
    {
      "cell_type": "code",
      "execution_count": null,
      "metadata": {
        "id": "mrsehNGCmkDq"
      },
      "outputs": [],
      "source": [
        "torch.save(model,'./model_checkpoint_91_accuracy.pth')"
      ]
    },
    {
      "cell_type": "code",
      "execution_count": null,
      "metadata": {
        "id": "B_mqmSTvpJ4w"
      },
      "outputs": [],
      "source": [
        "#ensemble\n",
        "\n",
        "model_86_1 = torch.load('./model_checkpoint_best_accuracy.pth')\n",
        "\n",
        "model_86_2 = torch.load('./model_checkpoint_best_accuracy-15.pth')\n",
        "\n",
        "model_86_3 = torch.load('./model_checkpoint_best_accuracy-14.pth')\n",
        "\n",
        "model_86_4 = torch.load('./model_checkpoint_best_accuracy-13.pth')\n",
        "\n",
        "\n",
        "class combine(torch.nn.Module):\n",
        "  def __init__(self,model1,model2,):\n",
        "      super(combine,self).__init__()\n",
        "\n",
        "      self.model1 = model1\n",
        "      self.model2 = model2\n",
        "      #self.model3 = model3\n",
        "      #self.model4 = model4\n",
        "\n",
        "  def forward(self,x):\n",
        "\n",
        "    out1 = self.model1(x)\n",
        "    out2 = self.model2(x)\n",
        "    #out3 = self.model3(x)\n",
        "    #out4 = self.model4(x)\n",
        "\n",
        "    out = out1+out2\n",
        "\n",
        "    #pred = np.argmax(out)\n",
        "\n",
        "    return out\n",
        "\n",
        "ensemble = combine(model1 = model_86_1, model2= model_86_2,)\n",
        "\n"
      ]
    },
    {
      "cell_type": "code",
      "execution_count": null,
      "metadata": {
        "colab": {
          "base_uri": "https://localhost:8080/"
        },
        "id": "lLej2MhJs-8x",
        "outputId": "d58b1b17-74d2-4ca4-cae6-09608e56c246"
      },
      "outputs": [
        {
          "name": "stderr",
          "output_type": "stream",
          "text": []
        }
      ],
      "source": [
        "val_acc, val_loss = validate(ensemble, val_loader, criterion)\n"
      ]
    },
    {
      "cell_type": "markdown",
      "metadata": {
        "id": "UpgCHImRkYQW"
      },
      "source": [
        "# Classification Task: Testing"
      ]
    },
    {
      "cell_type": "code",
      "execution_count": null,
      "metadata": {
        "id": "U2WQEUjXkWvo"
      },
      "outputs": [],
      "source": [
        "def test(model,dataloader):\n",
        "\n",
        "  model.eval()\n",
        "  batch_bar = tqdm(total=len(dataloader), dynamic_ncols=True, position=0, leave=False, desc='Test')\n",
        "  test_results = []\n",
        "  \n",
        "  for i, (images) in enumerate(dataloader):\n",
        "      # TODO: Finish predicting on the test set.\n",
        "      images = images.to(device)\n",
        "\n",
        "      with torch.inference_mode():\n",
        "        outputs = model(images)\n",
        "\n",
        "      outputs = torch.argmax(outputs, axis=1).detach().cpu().numpy().tolist()\n",
        "      test_results.extend(outputs)\n",
        "      \n",
        "      batch_bar.update()\n",
        "      \n",
        "  batch_bar.close()\n",
        "  return test_results"
      ]
    },
    {
      "cell_type": "code",
      "execution_count": null,
      "metadata": {
        "colab": {
          "base_uri": "https://localhost:8080/"
        },
        "id": "K7R1lcCAzULc",
        "outputId": "a03872f1-0d50-4711-eb44-237fba9aef94"
      },
      "outputs": [
        {
          "name": "stderr",
          "output_type": "stream",
          "text": []
        }
      ],
      "source": [
        "test_results = test(model, test_loader)"
      ]
    },
    {
      "cell_type": "markdown",
      "metadata": {
        "id": "zqfUzwS2L1gx"
      },
      "source": [
        "## Generate csv to submit to Kaggle"
      ]
    },
    {
      "cell_type": "code",
      "execution_count": null,
      "metadata": {
        "colab": {
          "base_uri": "https://localhost:8080/"
        },
        "id": "Vob9a2-HkW_V",
        "outputId": "8300a780-bd7c-442b-a78e-d10663a21a50"
      },
      "outputs": [
        {
          "name": "stdout",
          "output_type": "stream",
          "text": [
            "Warning: Looks like you're using an outdated API Version, please consider updating (server 1.5.12 / client 1.5.8)\n",
            "100% 541k/541k [00:01<00:00, 366kB/s]\n",
            "Successfully submitted to Face Recognition"
          ]
        }
      ],
      "source": [
        "with open(\"classification_early_submission.csv\", \"w+\") as f:\n",
        "    f.write(\"id,label\\n\")\n",
        "    for i in range(len(test_dataset)):\n",
        "        f.write(\"{},{}\\n\".format(str(i).zfill(6) + \".jpg\", test_results[i]))\n",
        "\n",
        "!kaggle competitions submit -c 11-785-f22-hw2p2-classification -f ./classification_early_submission.csv -m \"Test Submission\""
      ]
    },
    {
      "cell_type": "markdown",
      "metadata": {
        "id": "PsJx1l1T4twC"
      },
      "source": [
        "# Verification Task: Validation"
      ]
    },
    {
      "cell_type": "markdown",
      "metadata": {
        "id": "FoBFFF8-Lpvj"
      },
      "source": [
        "The verification task consists of the following generalized scenario:\n",
        "- You are given X unknown identitites \n",
        "- You are given Y known identitites\n",
        "- Your goal is to match X unknown identities to Y known identities.\n",
        "\n",
        "We have given you a verification dataset, that consists of 1000 known identities, and 1000 unknown identities. The 1000 unknown identities are split into dev (200) and test (800). Your goal is to compare the unknown identities to the 1000 known identities and assign an identity to each image from the set of unknown identities. \n",
        "\n",
        "Your will use/finetune your model trained for classification to compare images between known and unknown identities using a similarity metric and assign labels to the unknown identities. \n",
        "\n",
        "This will judge your model's performance in terms of the quality of embeddings/features it generates on images/faces it has never seen during training for classification."
      ]
    },
    {
      "cell_type": "code",
      "execution_count": null,
      "metadata": {
        "colab": {
          "base_uri": "https://localhost:8080/"
        },
        "id": "f9aY5o-suWdn",
        "outputId": "2913d2a3-8eeb-409a-c866-3e14feef85ab"
      },
      "outputs": [
        {
          "name": "stderr",
          "output_type": "stream",
          "text": [
            "100%|██████████| 200/200 [00:00<00:00, 7935.94it/s]\n",
            "100%|██████████| 1000/1000 [00:00<00:00, 5477.50it/s]\n",
            "100%|██████████| 800/800 [00:00<00:00, 14360.67it/s]\n"
          ]
        }
      ],
      "source": [
        "known_regex = \"/content/data/verification/known/*/*\"\n",
        "known_paths = [i.split('/')[-2] for i in sorted(glob.glob(known_regex))] \n",
        "# This obtains the list of known identities from the known folder\n",
        "\n",
        "unknown_regex = \"/content/data/verification/unknown_dev/*\" #Change the directory accordingly for the test set\n",
        "\n",
        "test_regex = \"/content/data/verification/unknown_test/*\"\n",
        "\n",
        "# We load the images from known and unknown folders\n",
        "unknown_images = [Image.open(p) for p in tqdm(sorted(glob.glob(unknown_regex)))]\n",
        "known_images = [Image.open(p) for p in tqdm(sorted(glob.glob(known_regex)))]\n",
        "test_images = [Image.open(p) for p in tqdm(sorted(glob.glob(test_regex)))]\n",
        "\n",
        "\n",
        "# Why do you need only ToTensor() here?\n",
        "transforms = torchvision.transforms.Compose([\n",
        "    torchvision.transforms.ToTensor()])\n",
        "\n",
        "unknown_images = torch.stack([transforms(x) for x in unknown_images])\n",
        "known_images  = torch.stack([transforms(y) for y in known_images ])\n",
        "test_images  = torch.stack([transforms(y) for y in test_images ])\n",
        "\n",
        "#Print your shapes here to understand what we have done\n",
        "\n",
        "# You can use other similarity metrics like Euclidean Distance if you wish\n",
        "similarity_metric = torch.nn.CosineSimilarity(dim= 1, eps= 1e-6) "
      ]
    },
    {
      "cell_type": "code",
      "execution_count": null,
      "metadata": {
        "id": "rk1LS0BRxFHM"
      },
      "outputs": [],
      "source": [
        "def eval_verification(unknown_images, known_images, model, similarity, batch_size= config['batch_size'], mode='val'): \n",
        "\n",
        "    unknown_feats, known_feats = [], []\n",
        "\n",
        "    batch_bar = tqdm(total=len(unknown_images)//batch_size, dynamic_ncols=True, position=0, leave=False, desc=mode)\n",
        "    model.eval()\n",
        "\n",
        "    # We load the images as batches for memory optimization and avoiding CUDA OOM errors\n",
        "    for i in range(0, unknown_images.shape[0], batch_size):\n",
        "        unknown_batch = unknown_images[i:i+batch_size] # Slice a given portion upto batch_size\n",
        "        \n",
        "        with torch.no_grad():\n",
        "            unknown_feat = model(unknown_batch.float().to(device), return_feats=True) #Get features from model         \n",
        "        unknown_feats.append(unknown_feat)\n",
        "        batch_bar.update()\n",
        "    \n",
        "    batch_bar.close()\n",
        "    \n",
        "    batch_bar = tqdm(total=len(known_images)//batch_size, dynamic_ncols=True, position=0, leave=False, desc=mode)\n",
        "    \n",
        "    for i in range(0, known_images.shape[0], batch_size):\n",
        "        known_batch = known_images[i:i+batch_size] \n",
        "        with torch.no_grad():\n",
        "              known_feat = model(known_batch.float().to(device), return_feats=True)\n",
        "          \n",
        "        known_feats.append(known_feat)\n",
        "        batch_bar.update()\n",
        "\n",
        "    batch_bar.close()\n",
        "\n",
        "    # Concatenate all the batches\n",
        "    unknown_feats = torch.cat(unknown_feats, dim=0)\n",
        "    known_feats = torch.cat(known_feats, dim=0)\n",
        "\n",
        "    similarity_values = torch.stack([similarity(unknown_feats, known_feature) for known_feature in known_feats])\n",
        "    # Print the inner list comprehension in a separate cell - what is really happening?\n",
        "\n",
        "    predictions = similarity_values.argmax(0).cpu().numpy() #Why are we doing an argmax here?\n",
        "\n",
        "    # Map argmax indices to identity strings\n",
        "    pred_id_strings = [known_paths[i] for i in predictions]\n",
        "    \n",
        "    if mode == 'val':\n",
        "      true_ids = pd.read_csv('/content/data/verification/dev_identities.csv')['label'].tolist()\n",
        "      accuracy = accuracy_score(pred_id_strings, true_ids)\n",
        "      print(\"Verification Accuracy = {}\".format(accuracy))\n",
        "    \n",
        "    return pred_id_strings"
      ]
    },
    {
      "cell_type": "code",
      "execution_count": null,
      "metadata": {
        "colab": {
          "base_uri": "https://localhost:8080/",
          "height": 317
        },
        "id": "rHYVNjxv4aXf",
        "outputId": "cf054ead-9f60-434c-efab-7b5a9a456e6e"
      },
      "outputs": [
        {
          "name": "stderr",
          "output_type": "stream",
          "text": []
        },
        {
          "ename": "TypeError",
          "evalue": "ignored",
          "output_type": "error",
          "traceback": [
            "\u001b[0;31m---------------------------------------------------------------------------\u001b[0m",
            "\u001b[0;31mTypeError\u001b[0m                                 Traceback (most recent call last)",
            "\u001b[0;32m<ipython-input-17-13f8f333ff1a>\u001b[0m in \u001b[0;36m<module>\u001b[0;34m\u001b[0m\n\u001b[0;32m----> 1\u001b[0;31m \u001b[0mtest_id_strings\u001b[0m \u001b[0;34m=\u001b[0m \u001b[0meval_verification\u001b[0m\u001b[0;34m(\u001b[0m\u001b[0mtest_images\u001b[0m\u001b[0;34m,\u001b[0m \u001b[0mknown_images\u001b[0m\u001b[0;34m,\u001b[0m \u001b[0mmodel\u001b[0m\u001b[0;34m,\u001b[0m \u001b[0msimilarity_metric\u001b[0m\u001b[0;34m,\u001b[0m \u001b[0mconfig\u001b[0m\u001b[0;34m[\u001b[0m\u001b[0;34m'batch_size'\u001b[0m\u001b[0;34m]\u001b[0m\u001b[0;34m,\u001b[0m \u001b[0mmode\u001b[0m\u001b[0;34m=\u001b[0m\u001b[0;34m'test'\u001b[0m\u001b[0;34m)\u001b[0m\u001b[0;34m\u001b[0m\u001b[0;34m\u001b[0m\u001b[0m\n\u001b[0m\u001b[1;32m      2\u001b[0m \u001b[0;34m\u001b[0m\u001b[0m\n",
            "\u001b[0;32m<ipython-input-16-1e88f3ed6ed8>\u001b[0m in \u001b[0;36meval_verification\u001b[0;34m(unknown_images, known_images, model, similarity, batch_size, mode)\u001b[0m\n\u001b[1;32m     30\u001b[0m \u001b[0;34m\u001b[0m\u001b[0m\n\u001b[1;32m     31\u001b[0m     \u001b[0;31m# Concatenate all the batches\u001b[0m\u001b[0;34m\u001b[0m\u001b[0;34m\u001b[0m\u001b[0;34m\u001b[0m\u001b[0m\n\u001b[0;32m---> 32\u001b[0;31m     \u001b[0munknown_feats\u001b[0m \u001b[0;34m=\u001b[0m \u001b[0mtorch\u001b[0m\u001b[0;34m.\u001b[0m\u001b[0mcat\u001b[0m\u001b[0;34m(\u001b[0m\u001b[0munknown_feats\u001b[0m\u001b[0;34m,\u001b[0m \u001b[0mdim\u001b[0m\u001b[0;34m=\u001b[0m\u001b[0;36m0\u001b[0m\u001b[0;34m)\u001b[0m\u001b[0;34m\u001b[0m\u001b[0;34m\u001b[0m\u001b[0m\n\u001b[0m\u001b[1;32m     33\u001b[0m     \u001b[0mknown_feats\u001b[0m \u001b[0;34m=\u001b[0m \u001b[0mtorch\u001b[0m\u001b[0;34m.\u001b[0m\u001b[0mcat\u001b[0m\u001b[0;34m(\u001b[0m\u001b[0mknown_feats\u001b[0m\u001b[0;34m,\u001b[0m \u001b[0mdim\u001b[0m\u001b[0;34m=\u001b[0m\u001b[0;36m0\u001b[0m\u001b[0;34m)\u001b[0m\u001b[0;34m\u001b[0m\u001b[0;34m\u001b[0m\u001b[0m\n\u001b[1;32m     34\u001b[0m \u001b[0;34m\u001b[0m\u001b[0m\n",
            "\u001b[0;31mTypeError\u001b[0m: expected Tensor as element 0 in argument 0, but got tuple"
          ]
        }
      ],
      "source": [
        "test_id_strings = eval_verification(test_images, known_images, model, similarity_metric, config['batch_size'], mode='test')\n",
        "\n"
      ]
    },
    {
      "cell_type": "code",
      "execution_count": null,
      "metadata": {
        "colab": {
          "base_uri": "https://localhost:8080/",
          "height": 300
        },
        "id": "zMC7FacaUnJ7",
        "outputId": "0155465b-ba77-4450-ed05-2852974846d8"
      },
      "outputs": [
        {
          "name": "stderr",
          "output_type": "stream",
          "text": []
        },
        {
          "ename": "TypeError",
          "evalue": "ignored",
          "output_type": "error",
          "traceback": [
            "\u001b[0;31m---------------------------------------------------------------------------\u001b[0m",
            "\u001b[0;31mTypeError\u001b[0m                                 Traceback (most recent call last)",
            "\u001b[0;32m<ipython-input-23-45e641654a1b>\u001b[0m in \u001b[0;36m<module>\u001b[0;34m\u001b[0m\n\u001b[0;32m----> 1\u001b[0;31m \u001b[0mpred_id_strings\u001b[0m \u001b[0;34m=\u001b[0m \u001b[0meval_verification\u001b[0m\u001b[0;34m(\u001b[0m\u001b[0munknown_images\u001b[0m\u001b[0;34m,\u001b[0m \u001b[0mknown_images\u001b[0m\u001b[0;34m,\u001b[0m \u001b[0mmodel\u001b[0m\u001b[0;34m,\u001b[0m \u001b[0msimilarity_metric\u001b[0m\u001b[0;34m,\u001b[0m \u001b[0mconfig\u001b[0m\u001b[0;34m[\u001b[0m\u001b[0;34m'batch_size'\u001b[0m\u001b[0;34m]\u001b[0m\u001b[0;34m,\u001b[0m \u001b[0mmode\u001b[0m\u001b[0;34m=\u001b[0m\u001b[0;34m'val'\u001b[0m\u001b[0;34m)\u001b[0m\u001b[0;34m\u001b[0m\u001b[0;34m\u001b[0m\u001b[0m\n\u001b[0m",
            "\u001b[0;32m<ipython-input-21-1e88f3ed6ed8>\u001b[0m in \u001b[0;36meval_verification\u001b[0;34m(unknown_images, known_images, model, similarity, batch_size, mode)\u001b[0m\n\u001b[1;32m     30\u001b[0m \u001b[0;34m\u001b[0m\u001b[0m\n\u001b[1;32m     31\u001b[0m     \u001b[0;31m# Concatenate all the batches\u001b[0m\u001b[0;34m\u001b[0m\u001b[0;34m\u001b[0m\u001b[0;34m\u001b[0m\u001b[0m\n\u001b[0;32m---> 32\u001b[0;31m     \u001b[0munknown_feats\u001b[0m \u001b[0;34m=\u001b[0m \u001b[0mtorch\u001b[0m\u001b[0;34m.\u001b[0m\u001b[0mcat\u001b[0m\u001b[0;34m(\u001b[0m\u001b[0munknown_feats\u001b[0m\u001b[0;34m,\u001b[0m \u001b[0mdim\u001b[0m\u001b[0;34m=\u001b[0m\u001b[0;36m0\u001b[0m\u001b[0;34m)\u001b[0m\u001b[0;34m\u001b[0m\u001b[0;34m\u001b[0m\u001b[0m\n\u001b[0m\u001b[1;32m     33\u001b[0m     \u001b[0mknown_feats\u001b[0m \u001b[0;34m=\u001b[0m \u001b[0mtorch\u001b[0m\u001b[0;34m.\u001b[0m\u001b[0mcat\u001b[0m\u001b[0;34m(\u001b[0m\u001b[0mknown_feats\u001b[0m\u001b[0;34m,\u001b[0m \u001b[0mdim\u001b[0m\u001b[0;34m=\u001b[0m\u001b[0;36m0\u001b[0m\u001b[0;34m)\u001b[0m\u001b[0;34m\u001b[0m\u001b[0;34m\u001b[0m\u001b[0m\n\u001b[1;32m     34\u001b[0m \u001b[0;34m\u001b[0m\u001b[0m\n",
            "\u001b[0;31mTypeError\u001b[0m: expected Tensor as element 0 in argument 0, but got tuple"
          ]
        }
      ],
      "source": [
        "pred_id_strings = eval_verification(unknown_images, known_images, model, similarity_metric, config['batch_size'], mode='val')\n",
        "\n"
      ]
    },
    {
      "cell_type": "code",
      "execution_count": null,
      "metadata": {
        "colab": {
          "base_uri": "https://localhost:8080/"
        },
        "id": "fD-r-HmsAeWV",
        "outputId": "52868241-8c87-48df-9205-9e92a540f903"
      },
      "outputs": [
        {
          "name": "stdout",
          "output_type": "stream",
          "text": [
            "Warning: Looks like you're using an outdated API Version, please consider updating (server 1.5.12 / client 1.5.8)\n",
            "100% 9.28k/9.28k [00:08<00:00, 1.14kB/s]\n",
            "Successfully submitted to Face Verification"
          ]
        }
      ],
      "source": [
        "with open(\"verification_early_submission.csv\", \"w+\") as f:\n",
        "    f.write(\"id,label\\n\")\n",
        "    for i in range(len(test_id_strings)):\n",
        "        f.write(\"{},{}\\n\".format(i, test_id_strings[i]))\n",
        "\n",
        "!kaggle competitions submit -c 11-785-f22-hw2p2-verification -f ./verification_early_submission.csv -m \"Test Submission\""
      ]
    }
  ],
  "metadata": {
    "accelerator": "GPU",
    "colab": {
      "machine_shape": "hm",
      "provenance": []
    },
    "gpuClass": "premium",
    "kernelspec": {
      "display_name": "Python 3",
      "name": "python3"
    },
    "language_info": {
      "name": "python"
    }
  },
  "nbformat": 4,
  "nbformat_minor": 0
}
